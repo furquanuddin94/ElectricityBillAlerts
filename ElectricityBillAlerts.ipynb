{
 "cells": [
  {
   "cell_type": "code",
   "execution_count": null,
   "metadata": {},
   "outputs": [],
   "source": [
    "import requests\n",
    "from bs4 import BeautifulSoup\n",
    "from twilio.rest import Client\n",
    "import configparser"
   ]
  },
  {
   "cell_type": "code",
   "execution_count": null,
   "metadata": {},
   "outputs": [],
   "source": [
    "dashboardUrl = None\n",
    "loginUrl = None\n",
    "loginValues = None\n",
    "phoneNumbersList = None\n",
    "twilioNumber = None"
   ]
  },
  {
   "cell_type": "code",
   "execution_count": null,
   "metadata": {},
   "outputs": [],
   "source": [
    "def parseConfigFile():\n",
    "    config = configparser.ConfigParser()\n",
    "    config.read('config.ini')\n",
    "    #config.sections()\n",
    "    global dashboardUrl \n",
    "    dashboardUrl = config['urls']['dashboardUrl']\n",
    "    \n",
    "    global loginUrl\n",
    "    loginUrl = config['urls']['loginUrl']\n",
    "    \n",
    "    global loginValues\n",
    "    loginValues = {'property': config['flatKeys']['property'],\n",
    "    'flat': config['flatKeys']['flat'] }\n",
    "    \n",
    "    global phoneNumbersList\n",
    "    phoneNumbersList = config['personalInfo']['phoneNumbers'].split(\",\")\n",
    "    \n",
    "    global twilioNumber\n",
    "    twilioNumber = config['personalInfo']['twilioNumber']"
   ]
  },
  {
   "cell_type": "code",
   "execution_count": null,
   "metadata": {},
   "outputs": [],
   "source": [
    "def createSession():\n",
    "    session = requests.session()\n",
    "    session.post(loginUrl, data=loginValues)\n",
    "    return session"
   ]
  },
  {
   "cell_type": "code",
   "execution_count": null,
   "metadata": {},
   "outputs": [],
   "source": [
    "def fetchDashboard(session):\n",
    "    dashboard = session.get(dashboardUrl)\n",
    "    return dashboard"
   ]
  },
  {
   "cell_type": "code",
   "execution_count": null,
   "metadata": {},
   "outputs": [],
   "source": [
    "def parseDashboard(dashboard):\n",
    "    dashboardHtml = dashboard.content\n",
    "    parsedDashboard = BeautifulSoup(dashboard.content,\"html.parser\")\n",
    "    return parsedDashboard"
   ]
  },
  {
   "cell_type": "code",
   "execution_count": null,
   "metadata": {},
   "outputs": [],
   "source": [
    "def getTotalBill(parsedDashboard):\n",
    "    totalBill = \"\"\n",
    "    for tag in parsedDashboard.find_all('h3', recursive=True):\n",
    "        #print(tag.contents[2])\n",
    "        totalBill = totalBill +  str(tag.contents[2])[2:]\n",
    "    return totalBill"
   ]
  },
  {
   "cell_type": "code",
   "execution_count": null,
   "metadata": {},
   "outputs": [],
   "source": [
    "def getYesterdaysBill(parsedDashboard):\n",
    "    htmlContent = \"\"\n",
    "    for tag in parsedDashboard.find_all('li', recursive=True):\n",
    "        if(\"Grid\" in str(tag.contents)):\n",
    "            #print(h.contents)\n",
    "            htmlContent = htmlContent + (str(tag.contents[1])) \n",
    "            break\n",
    "    #print(stri)\n",
    "    bill = []\n",
    "    bill.append(htmlContent.split(\"<strong>\")[1].split(\"</strong>\")[0] + htmlContent.split(\"<br/>\")[1].split(\"</div>\")[0])\n",
    "    bill.append(htmlContent.split(\"KWH(G) : \")[1].split(\"</span>\")[0])\n",
    "    bill.append(htmlContent.split(\"</i>: \")[1].split(\"</span>\")[0])\n",
    "    \n",
    "    return bill"
   ]
  },
  {
   "cell_type": "code",
   "execution_count": null,
   "metadata": {},
   "outputs": [],
   "source": [
    "def sendMessage(totalBill, yesterdaysBill):\n",
    "    # Your Account Sid and Auth Token from twilio.com/console\n",
    "    account_sid = 'ACda6d35f15973666d4e157fb4ee9463bf'\n",
    "    auth_token = '048740d1d43d7db9aa9b77f0d43c108a'\n",
    "    client = Client(account_sid, auth_token)\n",
    "    \n",
    "    messageBody = \"Your total bill is Rs. \" + totalBill + \". Your bill for \" + yesterdaysBill[0] + \"is Rs. \" + yesterdaysBill[2] + \". Units spent until \"  + yesterdaysBill[0] + \"are \" + yesterdaysBill[1] + \"KWH.\"\n",
    "    print(messageBody)\n",
    "    \n",
    "    for phoneNumber in phoneNumbersList:\n",
    "        message = client.messages.create(\n",
    "                                  body=messageBody,\n",
    "                                  from_=twilioNumber,\n",
    "                                  to=phoneNumber\n",
    "                                  )\n",
    "        print(\"Message sent to \" + phoneNumber)\n",
    "\n",
    "    #print(message.sid)"
   ]
  },
  {
   "cell_type": "code",
   "execution_count": null,
   "metadata": {},
   "outputs": [],
   "source": [
    "def main():\n",
    "    parseConfigFile()\n",
    "    session = createSession()\n",
    "    dashboard = fetchDashboard(session)\n",
    "    parsedDashboard = parseDashboard(dashboard)\n",
    "    totalBill = getTotalBill(parsedDashboard)\n",
    "    yesterdaysBill = getYesterdaysBill(parsedDashboard)\n",
    "    sendMessage(totalBill,yesterdaysBill)"
   ]
  },
  {
   "cell_type": "code",
   "execution_count": null,
   "metadata": {},
   "outputs": [],
   "source": [
    "if __name__ == \"__main__\":main()"
   ]
  }
 ],
 "metadata": {
  "kernelspec": {
   "display_name": "Python 3",
   "language": "python",
   "name": "python3"
  },
  "language_info": {
   "codemirror_mode": {
    "name": "ipython",
    "version": 3
   },
   "file_extension": ".py",
   "mimetype": "text/x-python",
   "name": "python",
   "nbconvert_exporter": "python",
   "pygments_lexer": "ipython3",
   "version": "3.6.4"
  }
 },
 "nbformat": 4,
 "nbformat_minor": 2
}
